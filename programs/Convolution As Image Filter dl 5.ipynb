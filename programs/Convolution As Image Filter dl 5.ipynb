{
 "cells": [
  {
   "cell_type": "code",
   "execution_count": 1,
   "id": "8b8fc508-663a-4d75-a94c-def984732bb5",
   "metadata": {},
   "outputs": [
    {
     "name": "stdout",
     "output_type": "stream",
     "text": [
      "Downloading data from https://storage.googleapis.com/tensorflow/tf-keras-datasets/train-labels-idx1-ubyte.gz\n",
      "\u001b[1m29515/29515\u001b[0m \u001b[32m━━━━━━━━━━━━━━━━━━━━\u001b[0m\u001b[37m\u001b[0m \u001b[1m0s\u001b[0m 0us/step\n",
      "Downloading data from https://storage.googleapis.com/tensorflow/tf-keras-datasets/train-images-idx3-ubyte.gz\n",
      "\u001b[1m26421880/26421880\u001b[0m \u001b[32m━━━━━━━━━━━━━━━━━━━━\u001b[0m\u001b[37m\u001b[0m \u001b[1m4s\u001b[0m 0us/step\n",
      "Downloading data from https://storage.googleapis.com/tensorflow/tf-keras-datasets/t10k-labels-idx1-ubyte.gz\n",
      "\u001b[1m5148/5148\u001b[0m \u001b[32m━━━━━━━━━━━━━━━━━━━━\u001b[0m\u001b[37m\u001b[0m \u001b[1m0s\u001b[0m 0us/step\n",
      "Downloading data from https://storage.googleapis.com/tensorflow/tf-keras-datasets/t10k-images-idx3-ubyte.gz\n",
      "\u001b[1m4422102/4422102\u001b[0m \u001b[32m━━━━━━━━━━━━━━━━━━━━\u001b[0m\u001b[37m\u001b[0m \u001b[1m0s\u001b[0m 0us/step\n"
     ]
    },
    {
     "data": {
      "image/png": "[encoded data removed]",
      "text/plain": [
       "<Figure size 1200x400 with 3 Axes>"
      ]
     },
     "metadata": {},
     "output_type": "display_data"
    }
   ],
   "source": [
    "import numpy as np\n",
    "import matplotlib.pyplot as plt\n",
    "from tensorflow.keras.datasets import fashion_mnist\n",
    "\n",
    "# Class names in Fashion-MNIST\n",
    "class_names = ['T-shirt/top', 'Trouser', 'Pullover', 'Dress', 'Coat',\n",
    "               'Sandal', 'Shirt', 'Sneaker', 'Bag', 'Ankle boot']\n",
    "\n",
    "# Load Fashion MNIST dataset\n",
    "(x_train, y_train), _ = fashion_mnist.load_data()\n",
    "\n",
    "# Select first image and label\n",
    "image = x_train[0]\n",
    "label = y_train[0]\n",
    "label_name = class_names[label]\n",
    "\n",
    "# Define sharpen filter kernel\n",
    "sharpen_kernel = np.array([[ 0, -1,  0],\n",
    "                           [-1,  5, -1],\n",
    "                           [ 0, -1,  0]])\n",
    "\n",
    "# Define Gaussian blur kernel\n",
    "gaussian_kernel = np.array([[1, 2, 1],\n",
    "                            [2, 4, 2],\n",
    "                            [1, 2, 1]]) / 16\n",
    "\n",
    "# Convolution function\n",
    "def apply_convolution(image, kernel):\n",
    "    h, w = image.shape\n",
    "    kh, kw = kernel.shape\n",
    "    pad_h, pad_w = kh // 2, kw // 2\n",
    "    padded = np.pad(image, ((pad_h, pad_h), (pad_w, pad_w)), mode='constant')\n",
    "    output = np.zeros_like(image)\n",
    "    for i in range(h):\n",
    "        for j in range(w):\n",
    "            region = padded[i:i+kh, j:j+kw]\n",
    "            output[i, j] = np.clip(np.sum(region * kernel), 0, 255)\n",
    "    return output\n",
    "\n",
    "# Apply filters\n",
    "sharpened = apply_convolution(image, sharpen_kernel)\n",
    "smoothed = apply_convolution(sharpened, gaussian_kernel)\n",
    "final_output = np.interp(smoothed, (smoothed.min(), smoothed.max()), (0, 255)).astype(np.uint8)\n",
    "\n",
    "# Plot results\n",
    "plt.figure(figsize=(12, 4))\n",
    "\n",
    "plt.subplot(1, 3, 1)\n",
    "plt.title(f\"Original: {label_name}\")\n",
    "plt.imshow(image, cmap='gray')\n",
    "plt.axis('off')\n",
    "\n",
    "plt.subplot(1, 3, 2)\n",
    "plt.title(\"Sharpen + Blur\")\n",
    "plt.imshow(smoothed, cmap='gray')\n",
    "plt.axis('off')\n",
    "\n",
    "plt.subplot(1, 3, 3)\n",
    "plt.title(\"Final Enhanced\")\n",
    "plt.imshow(final_output, cmap='gray')\n",
    "plt.axis('off')\n",
    "\n",
    "plt.tight_layout()\n",
    "plt.show()\n"
   ]
  },
  {
   "cell_type": "code",
   "execution_count": null,
   "id": "3c51eaf8-fb17-49c8-bb8a-dc208f664c98",
   "metadata": {},
   "outputs": [],
   "source": []
  }
 ],
 "metadata": {
  "kernelspec": {
   "display_name": "Python 3 (ipykernel)",
   "language": "python",
   "name": "python3"
  },
  "language_info": {
   "codemirror_mode": {
    "name": "ipython",
    "version": 3
   },
   "file_extension": ".py",
   "mimetype": "text/x-python",
   "name": "python",
   "nbconvert_exporter": "python",
   "pygments_lexer": "ipython3",
   "version": "3.12.7"
  }
 },
 "nbformat": 4,
 "nbformat_minor": 5
}
