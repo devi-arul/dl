{
 "cells": [
  {
   "cell_type": "code",
   "execution_count": 2,
   "id": "c2fe99d1-59d3-4dec-ac21-5f6cd6ccfe92",
   "metadata": {},
   "outputs": [
    {
     "name": "stderr",
     "output_type": "stream",
     "text": [
      "  WARNING: The script gtts-cli.exe is installed in 'C:\\Users\\LENOVO\\AppData\\Roaming\\Python\\Python312\\Scripts' which is not on PATH.\n",
      "  Consider adding this directory to PATH or, if you prefer to suppress this warning, use --no-warn-script-location.\n"
     ]
    },
    {
     "name": "stdout",
     "output_type": "stream",
     "text": [
      "Defaulting to user installation because normal site-packages is not writeable\n",
      "Collecting gTTS\n",
      "  Downloading gTTS-2.5.4-py3-none-any.whl.metadata (4.1 kB)\n",
      "Requirement already satisfied: requests<3,>=2.27 in c:\\programdata\\anaconda3\\lib\\site-packages (from gTTS) (2.32.3)\n",
      "Requirement already satisfied: click<8.2,>=7.1 in c:\\programdata\\anaconda3\\lib\\site-packages (from gTTS) (8.1.7)\n",
      "Requirement already satisfied: colorama in c:\\programdata\\anaconda3\\lib\\site-packages (from click<8.2,>=7.1->gTTS) (0.4.6)\n",
      "Requirement already satisfied: charset-normalizer<4,>=2 in c:\\programdata\\anaconda3\\lib\\site-packages (from requests<3,>=2.27->gTTS) (3.3.2)\n",
      "Requirement already satisfied: idna<4,>=2.5 in c:\\programdata\\anaconda3\\lib\\site-packages (from requests<3,>=2.27->gTTS) (3.7)\n",
      "Requirement already satisfied: urllib3<3,>=1.21.1 in c:\\programdata\\anaconda3\\lib\\site-packages (from requests<3,>=2.27->gTTS) (2.2.3)\n",
      "Requirement already satisfied: certifi>=2017.4.17 in c:\\programdata\\anaconda3\\lib\\site-packages (from requests<3,>=2.27->gTTS) (2025.1.31)\n",
      "Downloading gTTS-2.5.4-py3-none-any.whl (29 kB)\n",
      "Installing collected packages: gTTS\n",
      "Successfully installed gTTS-2.5.4\n",
      "🌍 Supported languages examples:\n",
      " en = English\n",
      " hi = Hindi\n",
      " ta = Tamil\n",
      " te = Telugu\n",
      " fr = French\n",
      " es = Spanish\n",
      " de = German\n",
      "--------------------------------\n"
     ]
    },
    {
     "name": "stdin",
     "output_type": "stream",
     "text": [
      "Enter the text you want to convert to speech:  welcome to annur\n",
      "Enter the language code (e.g., en, hi, ta, te):  en\n"
     ]
    },
    {
     "name": "stdout",
     "output_type": "stream",
     "text": [
      "✅ Speech saved as output.mp3\n"
     ]
    },
    {
     "data": {
      "text/html": [
       "\n",
       "                <audio  controls=\"controls\" >\n",
       "                    <source src=\"data:audio/mpeg;base64,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\" type=\"audio/mpeg\" />\n",
       "                    Your browser does not support the audio element.\n",
       "                </audio>\n",
       "              "
      ],
      "text/plain": [
       "<IPython.lib.display.Audio object>"
      ]
     },
     "metadata": {},
     "output_type": "display_data"
    }
   ],
   "source": [
    "# Install gTTS if not installed\n",
    "!pip install gTTS\n",
    "\n",
    "from gtts import gTTS\n",
    "import os\n",
    "\n",
    "# Language codes reference:\n",
    "# en - English, hi - Hindi, ta - Tamil, te - Telugu, fr - French, es - Spanish, de - German, etc.\n",
    "\n",
    "print(\"🌍 Supported languages examples:\")\n",
    "print(\" en = English\")\n",
    "print(\" hi = Hindi\")\n",
    "print(\" ta = Tamil\")\n",
    "print(\" te = Telugu\")\n",
    "print(\" fr = French\")\n",
    "print(\" es = Spanish\")\n",
    "print(\" de = German\")\n",
    "print(\"--------------------------------\")\n",
    "\n",
    "# 1. Get text from user\n",
    "text = input(\"Enter the text you want to convert to speech: \")\n",
    "\n",
    "# 2. Get language from user\n",
    "language = input(\"Enter the language code (e.g., en, hi, ta, te): \").strip()\n",
    "\n",
    "# 3. Create speech object\n",
    "speech = gTTS(text=text, lang=language, slow=False)\n",
    "\n",
    "# 4. Save audio file\n",
    "speech.save(\"output.mp3\")\n",
    "print(\"✅ Speech saved as output.mp3\")\n",
    "\n",
    "# 5. Play audio (works in Colab or Jupyter)\n",
    "try:\n",
    "    from IPython.display import Audio\n",
    "    display(Audio(\"output.mp3\"))\n",
    "except:\n",
    "    # For local PC playback\n",
    "    os.system(\"start output.mp3\")  # Windows\n",
    "    # os.system(\"afplay output.mp3\")  # Mac\n",
    "    # os.system(\"mpg123 output.mp3\")  # Linux\n"
   ]
  },
  {
   "cell_type": "code",
   "execution_count": null,
   "id": "a84c80f9-3dbc-4850-a2a7-4dad33089c90",
   "metadata": {},
   "outputs": [],
   "source": []
  }
 ],
 "metadata": {
  "kernelspec": {
   "display_name": "Python 3 (ipykernel)",
   "language": "python",
   "name": "python3"
  },
  "language_info": {
   "codemirror_mode": {
    "name": "ipython",
    "version": 3
   },
   "file_extension": ".py",
   "mimetype": "text/x-python",
   "name": "python",
   "nbconvert_exporter": "python",
   "pygments_lexer": "ipython3",
   "version": "3.12.7"
  }
 },
 "nbformat": 4,
 "nbformat_minor": 5
}
